{
  "cells": [
    {
      "cell_type": "markdown",
      "metadata": {
        "id": "ytcpF00_jflw"
      },
      "source": [
        "# CVChess Evaluation (with CustomChessCNN_v3)\n",
        "Loads `epoch31.pth`, computes metrics, and draws the requested plots.\n",
        "\n",
        "**Note:** Model expects logits shaped `(B, 64, 13)`."
      ],
      "id": "ytcpF00_jflw"
    },
    {
      "cell_type": "code",
      "execution_count": null,
      "metadata": {
        "colab": {
          "base_uri": "https://localhost:8080/"
        },
        "id": "lDRYLvC-jflx",
        "outputId": "f5b31e8c-fecc-45f8-977b-ec4ca20fa034"
      },
      "outputs": [
        {
          "output_type": "stream",
          "name": "stdout",
          "text": [
            "torch: 2.6.0+cu124 device: cpu\n",
            "Found model file at /content/epoch31.pth (42.14 MB)\n"
          ]
        }
      ],
      "source": [
        "# Cell 1 — setup + file check\n",
        "import os, json, csv\n",
        "from pathlib import Path\n",
        "import numpy as np\n",
        "import torch\n",
        "import torch.nn as nn\n",
        "import matplotlib.pyplot as plt\n",
        "from sklearn.metrics import confusion_matrix\n",
        "\n",
        "DEVICE = \"cuda\" if torch.cuda.is_available() else \"cpu\"\n",
        "MODEL_PATH = \"/content/epoch31.pth\"  # adjust path if needed\n",
        "\n",
        "CLASS_NAMES = [\n",
        "    \"empty\", \"wp\", \"wn\", \"wb\", \"wr\", \"wq\", \"wk\",\n",
        "    \"bp\", \"bn\", \"bb\", \"br\", \"bq\", \"bk\",\n",
        "]\n",
        "NUM_CLASSES = len(CLASS_NAMES)\n",
        "\n",
        "print(\"torch:\", torch.__version__, \"device:\", DEVICE)\n",
        "\n",
        "# Check file exists and print size\n",
        "if Path(MODEL_PATH).exists():\n",
        "    size_mb = os.path.getsize(MODEL_PATH) / (1024*1024)\n",
        "    print(f\"Found model file at {MODEL_PATH} ({size_mb:.2f} MB)\")\n",
        "else:\n",
        "    print(\"Model file not found — check your path.\")\n"
      ],
      "id": "lDRYLvC-jflx"
    },
    {
      "cell_type": "code",
      "execution_count": null,
      "metadata": {
        "id": "HYOQ1aQRjflx"
      },
      "outputs": [],
      "source": [
        "\n",
        "import torch\n",
        "import torch.nn as nn\n",
        "\n",
        "class PreActResidualBlock(nn.Module):\n",
        "    def __init__(self, in_channels, out_channels, stride=1, dropout=0.0):\n",
        "        super().__init__()\n",
        "        self.bn1 = nn.BatchNorm2d(in_channels)\n",
        "        self.relu1 = nn.ReLU(inplace=True)\n",
        "        self.conv1 = nn.Conv2d(in_channels, out_channels, kernel_size=3, stride=stride, padding=1, bias=False)\n",
        "\n",
        "        self.bn2 = nn.BatchNorm2d(out_channels)\n",
        "        self.relu2 = nn.ReLU(inplace=True)\n",
        "        self.conv2 = nn.Conv2d(out_channels, out_channels, kernel_size=3, padding=1, bias=False)\n",
        "\n",
        "        self.downsample = None\n",
        "        if stride != 1 or in_channels != out_channels:\n",
        "            self.downsample = nn.Conv2d(in_channels, out_channels, kernel_size=1, stride=stride, bias=False)\n",
        "\n",
        "        self.dropout = nn.Dropout(dropout) if dropout > 0 else nn.Identity()\n",
        "\n",
        "    def forward(self, x):\n",
        "        identity = x\n",
        "\n",
        "        out = self.relu1(self.bn1(x))\n",
        "        if self.downsample:\n",
        "            identity = self.downsample(out)\n",
        "\n",
        "        out = self.conv1(out)\n",
        "        out = self.relu2(self.bn2(out))\n",
        "        out = self.dropout(out)\n",
        "        out = self.conv2(out)\n",
        "\n",
        "        return out + identity\n",
        "\n",
        "class CustomChessCNN_v3(nn.Module):\n",
        "    def __init__(self, in_channels=3, num_classes=13, dropout=0.3):\n",
        "        super().__init__()\n",
        "\n",
        "        self.stem = nn.Sequential(\n",
        "            nn.Conv2d(in_channels, 64, kernel_size=7, stride=2, padding=3, bias=False),\n",
        "            nn.BatchNorm2d(64),\n",
        "            nn.ReLU(inplace=True),\n",
        "            nn.MaxPool2d(kernel_size=3, stride=2, padding=1)\n",
        "        )\n",
        "\n",
        "        self.layer1 = self._make_layer(64, 128, blocks=2, stride=1, dropout=dropout)\n",
        "        self.layer2 = self._make_layer(128, 256, blocks=2, stride=2, dropout=dropout)\n",
        "        self.layer3 = self._make_layer(256, 512, blocks=2, stride=2, dropout=dropout)\n",
        "\n",
        "        self.avgpool = nn.AdaptiveAvgPool2d((8, 8))  # (B, 512, 8, 8)\n",
        "        self.classifier = nn.Linear(512, num_classes)  # (64, 13)\n",
        "\n",
        "    def _make_layer(self, in_channels, out_channels, blocks, stride, dropout):\n",
        "        layers = [PreActResidualBlock(in_channels, out_channels, stride, dropout)]\n",
        "        for _ in range(1, blocks):\n",
        "            layers.append(PreActResidualBlock(out_channels, out_channels, dropout=dropout))\n",
        "        return nn.Sequential(*layers)\n",
        "\n",
        "    def forward(self, x):\n",
        "        x = self.stem(x)\n",
        "        x = self.layer1(x)\n",
        "        x = self.layer2(x)\n",
        "        x = self.layer3(x)\n",
        "        x = self.avgpool(x)                # (B, 512, 8, 8)\n",
        "        x = x.permute(0, 2, 3, 1)          # (B, 8, 8, 512)\n",
        "        x = x.view(x.size(0), 64, -1)      # (B, 64, 512)\n",
        "        x = self.classifier(x)             # (B, 64, 13)\n",
        "        return x\n"
      ],
      "id": "HYOQ1aQRjflx"
    },
    {
      "cell_type": "markdown",
      "metadata": {
        "id": "lg4Z3t3Vjfly"
      },
      "source": [
        "## Load checkpoint into CustomChessCNN_v3"
      ],
      "id": "lg4Z3t3Vjfly"
    },
    {
      "cell_type": "code",
      "execution_count": null,
      "metadata": {
        "colab": {
          "base_uri": "https://localhost:8080/"
        },
        "id": "AmXCh7dljfly",
        "outputId": "facf5c20-7e29-49b0-a946-40e7992675ae"
      },
      "outputs": [
        {
          "output_type": "stream",
          "name": "stdout",
          "text": [
            "Loaded with strict=False\n",
            "missing: 0  unexpected: 0\n"
          ]
        }
      ],
      "source": [
        "def _clean_state_dict_keys(sd):\n",
        "    # Remove common prefixes like 'module.' or 'model.'\n",
        "    cleaned = {}\n",
        "    for k, v in sd.items():\n",
        "        if k.startswith('module.'):\n",
        "            k2 = k[len('module.'):]\n",
        "        elif k.startswith('model.'):\n",
        "            k2 = k[len('model.'):]\n",
        "        else:\n",
        "            k2 = k\n",
        "        cleaned[k2] = v\n",
        "    return cleaned\n",
        "\n",
        "ckpt = torch.load(MODEL_PATH, map_location='cpu')\n",
        "if isinstance(ckpt, dict) and any(k in ckpt for k in ['state_dict', 'model_state_dict']):\n",
        "    sd = ckpt.get('state_dict', ckpt.get('model_state_dict'))\n",
        "else:\n",
        "    sd = ckpt\n",
        "\n",
        "sd = _clean_state_dict_keys(sd)\n",
        "model = CustomChessCNN_v3(in_channels=3, num_classes=13, dropout=0.3)\n",
        "missing, unexpected = model.load_state_dict(sd, strict=False)\n",
        "print('Loaded with strict=False')\n",
        "print('missing:', len(missing), ' unexpected:', len(unexpected))\n",
        "model = model.to(DEVICE).eval()"
      ],
      "id": "AmXCh7dljfly"
    },
    {
      "cell_type": "markdown",
      "metadata": {
        "id": "VZiNxsAQjfly"
      },
      "source": [
        "## Load saved predictions or generate them\n",
        "Place `/mnt/data/y_true_[split].npy` and `/mnt/data/y_pred_[split].npy` shaped `(N, 64)` for any of: `train`, `val`, `test`."
      ],
      "id": "VZiNxsAQjfly"
    },
    {
      "cell_type": "code",
      "execution_count": null,
      "metadata": {
        "colab": {
          "base_uri": "https://localhost:8080/"
        },
        "id": "AKzBeWRxjfly",
        "outputId": "6ae5ac5d-4585-4430-fbc4-d8850295fdc6"
      },
      "outputs": [
        {
          "output_type": "stream",
          "name": "stdout",
          "text": [
            "No saved arrays found. Add y_true_[split].npy and y_pred_[split].npy to /mnt/data.\n"
          ]
        }
      ],
      "source": [
        "results = {}\n",
        "for split in ['train', 'val', 'test']:\n",
        "    yt = Path(f\"/mnt/data/y_true_{split}.npy\")\n",
        "    yp = Path(f\"/mnt/data/y_pred_{split}.npy\")\n",
        "    if yt.exists() and yp.exists():\n",
        "        y_true = np.load(yt)\n",
        "        y_pred = np.load(yp)\n",
        "        assert y_true.shape == y_pred.shape and y_true.ndim == 2 and y_true.shape[1] == 64\n",
        "        correct_mask = (y_true == y_pred)\n",
        "        per_square_acc = correct_mask.mean().item()\n",
        "        board_accs = correct_mask.mean(axis=1)\n",
        "        full_board_acc = (board_accs == 1.0).mean().item()\n",
        "        errors_per_board = (64 - correct_mask.sum(axis=1)).astype(int)\n",
        "        results[split] = {\n",
        "            'N': int(y_true.shape[0]),\n",
        "            'per_square_acc': float(per_square_acc),\n",
        "            'avg_board_acc': float(board_accs.mean().item()),\n",
        "            'full_board_acc': float(full_board_acc),\n",
        "            'errors_per_board': errors_per_board,\n",
        "        }\n",
        "\n",
        "if not results:\n",
        "    print('No saved arrays found. Add y_true_[split].npy and y_pred_[split].npy to /mnt/data.')\n",
        "else:\n",
        "    for s, m in results.items():\n",
        "        print(s, {k: (round(v, 4) if isinstance(v, float) else v if k=='N' else '...') for k, v in m.items()})"
      ],
      "id": "AKzBeWRxjfly"
    },
    {
      "cell_type": "markdown",
      "metadata": {
        "id": "ApOyVhRyjfly"
      },
      "source": [
        "## Training/Validation curves (optional)\n",
        "Provide `/mnt/data/training_log.json` or `/mnt/data/metrics.csv` with `epoch, train_acc, val_acc, train_loss, val_loss`."
      ],
      "id": "ApOyVhRyjfly"
    },
    {
      "cell_type": "code",
      "execution_count": null,
      "metadata": {
        "colab": {
          "base_uri": "https://localhost:8080/"
        },
        "id": "M-flTSMfjfly",
        "outputId": "ac1eb3bb-f821-42e3-f235-68c09d8ddf55"
      },
      "outputs": [
        {
          "output_type": "stream",
          "name": "stdout",
          "text": [
            "No training log found. Skipping curves.\n"
          ]
        }
      ],
      "source": [
        "log_json = Path('/mnt/data/training_log.json')\n",
        "log_csv  = Path('/mnt/data/metrics.csv')\n",
        "history = None\n",
        "if log_json.exists():\n",
        "    with open(log_json) as f:\n",
        "        history = json.load(f)\n",
        "elif log_csv.exists():\n",
        "    history = {'epoch': [], 'train_acc': [], 'val_acc': [], 'train_loss': [], 'val_loss': []}\n",
        "    import csv\n",
        "    with open(log_csv) as f:\n",
        "        r = csv.DictReader(f)\n",
        "        for row in r:\n",
        "            history['epoch'].append(int(row.get('epoch', len(history['epoch']))))\n",
        "            history['train_acc'].append(float(row.get('train_acc', 'nan')))\n",
        "            history['val_acc'].append(float(row.get('val_acc', 'nan')))\n",
        "            history['train_loss'].append(float(row.get('train_loss', 'nan')))\n",
        "            history['val_loss'].append(float(row.get('val_loss', 'nan')))\n",
        "\n",
        "if history is None:\n",
        "    print('No training log found. Skipping curves.')\n",
        "else:\n",
        "    plt.figure()\n",
        "    plt.plot(history['epoch'], history['train_acc'], label='train acc')\n",
        "    plt.plot(history['epoch'], history['val_acc'], label='val acc')\n",
        "    plt.title('Training/Validation Accuracy')\n",
        "    plt.xlabel('Epoch')\n",
        "    plt.ylabel('Accuracy')\n",
        "    plt.legend()\n",
        "    plt.show()\n",
        "\n",
        "    plt.figure()\n",
        "    plt.plot(history['epoch'], history['train_loss'], label='train loss')\n",
        "    plt.plot(history['epoch'], history['val_loss'], label='val loss')\n",
        "    plt.title('Training/Validation Loss')\n",
        "    plt.xlabel('Epoch')\n",
        "    plt.ylabel('Loss')\n",
        "    plt.legend()\n",
        "    plt.show()"
      ],
      "id": "M-flTSMfjfly"
    },
    {
      "cell_type": "markdown",
      "metadata": {
        "id": "WhmQ2QrYjfly"
      },
      "source": [
        "## Boards fully correct and error distribution"
      ],
      "id": "WhmQ2QrYjfly"
    },
    {
      "cell_type": "code",
      "execution_count": null,
      "metadata": {
        "id": "0Ye5_H3gjfly"
      },
      "outputs": [],
      "source": [
        "for split, m in results.items():\n",
        "    n_full = int((64 - m['errors_per_board']) .astype(int).sum() == 64)  # placeholder line\n",
        "    # Correct calculation:\n",
        "    n_full = int((m['errors_per_board'] == 0).sum())\n",
        "    print(f\"{split}: {n_full} / {m['N']} boards fully correct\")\n",
        "\n",
        "    plt.figure()\n",
        "    plt.hist(m['errors_per_board'], bins=range(0, 65))\n",
        "    plt.title(f'Errors per board (hist) — {split}')\n",
        "    plt.xlabel('# errors on board (0..64)')\n",
        "    plt.ylabel('count')\n",
        "    plt.show()\n",
        "\n",
        "    zero = int((m['errors_per_board'] == 0).sum())\n",
        "    nonzero = int((m['errors_per_board'] > 0).sum())\n",
        "    plt.figure()\n",
        "    plt.pie([zero, nonzero], labels=['0 errors', '>0 errors'], autopct='%1.1f%%')\n",
        "    plt.title(f'Full-board correct vs not — {split}')\n",
        "    plt.show()"
      ],
      "id": "0Ye5_H3gjfly"
    },
    {
      "cell_type": "markdown",
      "metadata": {
        "id": "b7XbOFKbjflz"
      },
      "source": [
        "## Confusion matrix per split (all squares collapsed)"
      ],
      "id": "b7XbOFKbjflz"
    },
    {
      "cell_type": "code",
      "execution_count": null,
      "metadata": {
        "id": "6Fpd2vG7jflz"
      },
      "outputs": [],
      "source": [
        "def plot_confusion(y_true, y_pred, class_names):\n",
        "    NUM_CLASSES = len(class_names)\n",
        "    y_true_flat = y_true.reshape(-1)\n",
        "    y_pred_flat = y_pred.reshape(-1)\n",
        "    labels = list(range(NUM_CLASSES))\n",
        "    cm = confusion_matrix(y_true_flat, y_pred_flat, labels=labels, normalize='true')\n",
        "    fig = plt.figure()\n",
        "    im = plt.imshow(cm, aspect='auto')\n",
        "    plt.title('Confusion Matrix (normalized)')\n",
        "    plt.xlabel('Predicted')\n",
        "    plt.ylabel('True')\n",
        "    plt.colorbar(im)\n",
        "    plt.xticks(ticks=range(NUM_CLASSES), labels=class_names, rotation=90)\n",
        "    plt.yticks(ticks=range(NUM_CLASSES), labels=class_names)\n",
        "    plt.tight_layout()\n",
        "    plt.show()\n",
        "\n",
        "for split in results.keys():\n",
        "    yt = Path(f\"/mnt/data/y_true_{split}.npy\")\n",
        "    yp = Path(f\"/mnt/data/y_pred_{split}.npy\")\n",
        "    if yt.exists() and yp.exists():\n",
        "        y_true = np.load(yt)\n",
        "        y_pred = np.load(yp)\n",
        "        plot_confusion(y_true, y_pred, CLASS_NAMES)\n",
        "    else:\n",
        "        print(f'Skipping confusion for {split}: arrays not found.')"
      ],
      "id": "6Fpd2vG7jflz"
    },
    {
      "cell_type": "markdown",
      "metadata": {
        "id": "02WPZgCQjflz"
      },
      "source": [
        "## Qualitative results (notes)"
      ],
      "id": "02WPZgCQjflz"
    },
    {
      "cell_type": "code",
      "execution_count": null,
      "metadata": {
        "colab": {
          "base_uri": "https://localhost:8080/"
        },
        "id": "dOvw-03ijflz",
        "outputId": "34dee738-4be0-4e16-91db-7f4dc929e561"
      },
      "outputs": [
        {
          "output_type": "stream",
          "name": "stdout",
          "text": [
            "{\n",
            "  \"strengths\": [],\n",
            "  \"weaknesses\": [],\n",
            "  \"notes\": []\n",
            "}\n"
          ]
        }
      ],
      "source": [
        "qualitative = {\n",
        "    'strengths': [],\n",
        "    'weaknesses': [],\n",
        "    'notes': [],\n",
        "}\n",
        "print(json.dumps(qualitative, indent=2))"
      ],
      "id": "dOvw-03ijflz"
    },
    {
      "cell_type": "code",
      "source": [
        "# --- Setup\n",
        "import os, json, csv\n",
        "from pathlib import Path\n",
        "import numpy as np\n",
        "import torch\n",
        "import torch.nn as nn\n",
        "import matplotlib.pyplot as plt\n",
        "from sklearn.metrics import confusion_matrix\n",
        "\n",
        "DEVICE = \"cuda\" if torch.cuda.is_available() else \"cpu\"\n",
        "MODEL_PATH = \"/content/epoch31.pth\"\n",
        "\n",
        "CLASS_NAMES = [\n",
        "    \"empty\", \"wp\", \"wn\", \"wb\", \"wr\", \"wq\", \"wk\",\n",
        "    \"bp\", \"bn\", \"bb\", \"br\", \"bq\", \"bk\",\n",
        "]\n",
        "NUM_CLASSES = len(CLASS_NAMES)\n",
        "\n",
        "print(\"torch:\", torch.__version__, \"device:\", DEVICE)\n",
        "if Path(MODEL_PATH).exists():\n",
        "    print(f\"Found model file ({os.path.getsize(MODEL_PATH)/(1024*1024):.2f} MB)\")\n",
        "else:\n",
        "    raise FileNotFoundError(\"Model file not found\")\n",
        "\n",
        "# --- Model definition\n",
        "class PreActResidualBlock(nn.Module):\n",
        "    def __init__(self, in_channels, out_channels, stride=1, dropout=0.0):\n",
        "        super().__init__()\n",
        "        self.bn1 = nn.BatchNorm2d(in_channels)\n",
        "        self.relu1 = nn.ReLU(inplace=True)\n",
        "        self.conv1 = nn.Conv2d(in_channels, out_channels, 3, stride, 1, bias=False)\n",
        "\n",
        "        self.bn2 = nn.BatchNorm2d(out_channels)\n",
        "        self.relu2 = nn.ReLU(inplace=True)\n",
        "        self.conv2 = nn.Conv2d(out_channels, out_channels, 3, 1, 1, bias=False)\n",
        "\n",
        "        self.downsample = None\n",
        "        if stride != 1 or in_channels != out_channels:\n",
        "            self.downsample = nn.Conv2d(in_channels, out_channels, 1, stride, bias=False)\n",
        "\n",
        "        self.dropout = nn.Dropout(dropout) if dropout > 0 else nn.Identity()\n",
        "\n",
        "    def forward(self, x):\n",
        "        identity = x\n",
        "        out = self.relu1(self.bn1(x))\n",
        "        if self.downsample:\n",
        "            identity = self.downsample(out)\n",
        "        out = self.conv1(out)\n",
        "        out = self.relu2(self.bn2(out))\n",
        "        out = self.dropout(out)\n",
        "        out = self.conv2(out)\n",
        "        return out + identity\n",
        "\n",
        "class CustomChessCNN_v3(nn.Module):\n",
        "    def __init__(self, in_channels=3, num_classes=13, dropout=0.3):\n",
        "        super().__init__()\n",
        "        self.stem = nn.Sequential(\n",
        "            nn.Conv2d(in_channels, 64, 7, 2, 3, bias=False),\n",
        "            nn.BatchNorm2d(64),\n",
        "            nn.ReLU(inplace=True),\n",
        "            nn.MaxPool2d(3, 2, 1)\n",
        "        )\n",
        "        self.layer1 = self._make_layer(64, 128, 2, 1, dropout)\n",
        "        self.layer2 = self._make_layer(128, 256, 2, 2, dropout)\n",
        "        self.layer3 = self._make_layer(256, 512, 2, 2, dropout)\n",
        "        self.avgpool = nn.AdaptiveAvgPool2d((8, 8))\n",
        "        self.classifier = nn.Linear(512, num_classes)\n",
        "\n",
        "    def _make_layer(self, in_channels, out_channels, blocks, stride, dropout):\n",
        "        layers = [PreActResidualBlock(in_channels, out_channels, stride, dropout)]\n",
        "        for _ in range(1, blocks):\n",
        "            layers.append(PreActResidualBlock(out_channels, out_channels, dropout=dropout))\n",
        "        return nn.Sequential(*layers)\n",
        "\n",
        "    def forward(self, x):\n",
        "        x = self.stem(x)\n",
        "        x = self.layer1(x)\n",
        "        x = self.layer2(x)\n",
        "        x = self.layer3(x)\n",
        "        x = self.avgpool(x)\n",
        "        x = x.permute(0, 2, 3, 1).view(x.size(0), 64, -1)\n",
        "        return self.classifier(x)\n",
        "\n",
        "# --- Load checkpoint\n",
        "def _clean_keys(sd):\n",
        "    return {k.replace(\"module.\", \"\").replace(\"model.\", \"\"): v for k,v in sd.items()}\n",
        "\n",
        "ckpt = torch.load(MODEL_PATH, map_location=\"cpu\")\n",
        "if isinstance(ckpt, dict) and any(k in ckpt for k in [\"state_dict\", \"model_state_dict\"]):\n",
        "    sd = ckpt.get(\"state_dict\", ckpt.get(\"model_state_dict\"))\n",
        "else:\n",
        "    sd = ckpt\n",
        "sd = _clean_keys(sd)\n",
        "\n",
        "model = CustomChessCNN_v3()\n",
        "missing, unexpected = model.load_state_dict(sd, strict=False)\n",
        "print(\"missing keys:\", len(missing), \"unexpected keys:\", len(unexpected))\n",
        "model = model.to(DEVICE).eval()\n",
        "\n",
        "# --- Metrics function\n",
        "def metrics_from_arrays(y_true, y_pred):\n",
        "    correct_mask = (y_true == y_pred)\n",
        "    per_square_acc = correct_mask.mean()\n",
        "    avg_board_acc = correct_mask.mean(axis=1).mean()\n",
        "    full_board_acc = (correct_mask.mean(axis=1) == 1.0).mean()\n",
        "    errors_per_board = (64 - correct_mask.sum(axis=1)).astype(int)\n",
        "    return per_square_acc, avg_board_acc, full_board_acc, errors_per_board\n",
        "\n",
        "# --- Load predictions & plot\n",
        "results = {}\n",
        "for split in [\"train\", \"val\", \"test\"]:\n",
        "    yt = Path(f\"/content/y_true_{split}.npy\")\n",
        "    yp = Path(f\"/content/y_pred_{split}.npy\")\n",
        "    if yt.exists() and yp.exists():\n",
        "        y_true = np.load(yt)\n",
        "        y_pred = np.load(yp)\n",
        "        ps, ab, fb, errs = metrics_from_arrays(y_true, y_pred)\n",
        "        results[split] = dict(\n",
        "            per_square_acc=ps, avg_board_acc=ab, full_board_acc=fb, errors_per_board=errs,\n",
        "            y_true=y_true, y_pred=y_pred\n",
        "        )\n",
        "\n",
        "# --- Accuracy bar plot\n",
        "splits = list(results.keys())\n",
        "x = np.arange(len(splits))\n",
        "w = 0.25\n",
        "plt.figure()\n",
        "plt.bar(x - w, [results[s][\"per_square_acc\"] for s in splits], w, label=\"per-square\")\n",
        "plt.bar(x,     [results[s][\"avg_board_acc\"] for s in splits], w, label=\"avg board\")\n",
        "plt.bar(x + w, [results[s][\"full_board_acc\"] for s in splits], w, label=\"full board\")\n",
        "plt.xticks(x, splits)\n",
        "plt.ylim(0, 1)\n",
        "plt.ylabel(\"accuracy\")\n",
        "plt.legend()\n",
        "plt.title(\"Accuracies by split\")\n",
        "plt.show()\n",
        "\n",
        "# --- Histograms & Pie charts\n",
        "for split, m in results.items():\n",
        "    errs = m[\"errors_per_board\"]\n",
        "    plt.figure()\n",
        "    plt.hist(errs, bins=range(0, 65))\n",
        "    plt.title(f\"errors per board — {split}\")\n",
        "    plt.xlabel(\"# errors\")\n",
        "    plt.ylabel(\"count\")\n",
        "    plt.show()\n",
        "\n",
        "    plt.figure()\n",
        "    zero = int((errs == 0).sum())\n",
        "    nonzero = int((errs > 0).sum())\n",
        "    plt.pie([zero, nonzero], labels=[\"0 errors\", \">0 errors\"], autopct=\"%1.1f%%\")\n",
        "    plt.title(f\"full-board correct vs not — {split}\")\n",
        "    plt.show()\n",
        "\n",
        "def plot_confusion(y_true, y_pred, title):\n",
        "    y_true = y_true.reshape(-1)\n",
        "    y_pred = y_pred.reshape(-1)\n",
        "    cm = confusion_matrix(y_true, y_pred, labels=list(range(NUM_CLASSES)), normalize=\"true\")\n",
        "    plt.figure(figsize=(6,6))\n",
        "    plt.imshow(cm, aspect=\"auto\")\n",
        "    plt.title(title)\n",
        "    plt.xlabel(\"predicted\")\n",
        "    plt.ylabel(\"true\")\n",
        "    plt.colorbar()\n",
        "    plt.xticks(range(NUM_CLASSES), CLASS_NAMES, rotation=90)\n",
        "    plt.yticks(range(NUM_CLASSES), CLASS_NAMES)\n",
        "    plt.tight_layout()\n",
        "    plt.show()\n",
        "\n",
        "for split, m in results.items():\n",
        "    plot_confusion(m[\"y_true\"], m[\"y_pred\"], f\"{split} confusion (normalized)\")\n"
      ],
      "metadata": {
        "colab": {
          "base_uri": "https://localhost:8080/",
          "height": 489
        },
        "id": "pcTGdmp0jrth",
        "outputId": "e63eca09-7b4c-45de-dd1e-651de3946a3a"
      },
      "id": "pcTGdmp0jrth",
      "execution_count": null,
      "outputs": [
        {
          "output_type": "stream",
          "name": "stdout",
          "text": [
            "torch: 2.6.0+cu124 device: cpu\n",
            "Found model file (42.14 MB)\n",
            "missing keys: 0 unexpected keys: 0\n"
          ]
        },
        {
          "output_type": "display_data",
          "data": {
            "text/plain": [
              "<Figure size 640x480 with 1 Axes>"
            ],
            "image/png": "[encoded data removed]"
          },
          "metadata": {}
        }
      ]
    },
    {
      "cell_type": "code",
      "source": [
        "import torch\n",
        "import numpy as np\n",
        "import matplotlib.pyplot as plt\n",
        "from sklearn.metrics import confusion_matrix\n",
        "\n",
        "# ==== helper to run inference and collect predictions ====\n",
        "@torch.no_grad()\n",
        "def get_preds_and_labels(model, loader, device):\n",
        "    y_true_all, y_pred_all = [], []\n",
        "    model.eval()\n",
        "    for images, labels in loader:\n",
        "        images = images.to(device)\n",
        "        logits = model(images)  # (B, 64, 13)\n",
        "        preds = torch.argmax(logits, dim=-1).cpu().numpy()\n",
        "        y_pred_all.append(preds)\n",
        "        y_true_all.append(labels.numpy())\n",
        "    return np.concatenate(y_true_all, axis=0), np.concatenate(y_pred_all, axis=0)\n",
        "\n",
        "# ==== compute metrics ====\n",
        "def metrics_from_arrays(y_true, y_pred):\n",
        "    correct_mask = (y_true == y_pred)\n",
        "    per_square_acc = correct_mask.mean()\n",
        "    avg_board_acc = correct_mask.mean(axis=1).mean()\n",
        "    full_board_acc = (correct_mask.mean(axis=1) == 1.0).mean()\n",
        "    errors_per_board = (64 - correct_mask.sum(axis=1)).astype(int)\n",
        "    return per_square_acc, avg_board_acc, full_board_acc, errors_per_board\n",
        "\n",
        "# ==== plot confusion matrix ====\n",
        "CLASS_NAMES = [\"empty\", \"wp\", \"wn\", \"wb\", \"wr\", \"wq\", \"wk\",\n",
        "               \"bp\", \"bn\", \"bb\", \"br\", \"bq\", \"bk\"]\n",
        "\n",
        "def plot_confusion(y_true, y_pred, title):\n",
        "    y_true = y_true.reshape(-1)\n",
        "    y_pred = y_pred.reshape(-1)\n",
        "    cm = confusion_matrix(y_true, y_pred, labels=list(range(len(CLASS_NAMES))), normalize=\"true\")\n",
        "    plt.figure(figsize=(6, 6))\n",
        "    plt.imshow(cm, aspect=\"auto\")\n",
        "    plt.title(title)\n",
        "    plt.xlabel(\"Predicted\")\n",
        "    plt.ylabel(\"True\")\n",
        "    plt.colorbar()\n",
        "    plt.xticks(range(len(CLASS_NAMES)), CLASS_NAMES, rotation=90)\n",
        "    plt.yticks(range(len(CLASS_NAMES)), CLASS_NAMES)\n",
        "    plt.tight_layout()\n",
        "    plt.show()\n",
        "\n",
        "# ==== run for each split ====\n",
        "for split_name, loader in [(\"train\", train_loader),\n",
        "                           (\"val\", val_loader),\n",
        "                           (\"test\", test_loader)]:\n",
        "    y_true, y_pred = get_preds_and_labels(model, loader, DEVICE)\n",
        "    ps, ab, fb, errs = metrics_from_arrays(y_true, y_pred)\n",
        "    print(f\"{split_name}: per-square={ps:.4f}, avg-board={ab:.4f}, full-board={fb:.4f}\")\n",
        "\n",
        "    # histogram\n",
        "    plt.hist(errs, bins=range(0, 65))\n",
        "    plt.title(f\"Errors per board — {split_name}\")\n",
        "    plt.show()\n",
        "\n",
        "    # pie chart\n",
        "    zero = int((errs == 0).sum())\n",
        "    nonzero = int((errs > 0).sum())\n",
        "    plt.pie([zero, nonzero], labels=[\"0 errors\", \">0 errors\"], autopct=\"%1.1f%%\")\n",
        "    plt.title(f\"Full-board correct vs not — {split_name}\")\n",
        "    plt.show()\n",
        "\n",
        "    # confusion matrix\n",
        "    plot_confusion(y_true, y_pred, f\"{split_name} Confusion Matrix\")\n"
      ],
      "metadata": {
        "colab": {
          "base_uri": "https://localhost:8080/",
          "height": 211
        },
        "id": "jJW9mRgpk_tF",
        "outputId": "1f60dcc1-a67b-4c88-fb88-b22af9c53106"
      },
      "id": "jJW9mRgpk_tF",
      "execution_count": null,
      "outputs": [
        {
          "output_type": "error",
          "ename": "NameError",
          "evalue": "name 'train_loader' is not defined",
          "traceback": [
            "\u001b[0;31m---------------------------------------------------------------------------\u001b[0m",
            "\u001b[0;31mNameError\u001b[0m                                 Traceback (most recent call last)",
            "\u001b[0;32m/tmp/ipython-input-2311510935.py\u001b[0m in \u001b[0;36m<cell line: 0>\u001b[0;34m()\u001b[0m\n\u001b[1;32m     46\u001b[0m \u001b[0;34m\u001b[0m\u001b[0m\n\u001b[1;32m     47\u001b[0m \u001b[0;31m# ==== run for each split ====\u001b[0m\u001b[0;34m\u001b[0m\u001b[0;34m\u001b[0m\u001b[0m\n\u001b[0;32m---> 48\u001b[0;31m for split_name, loader in [(\"train\", train_loader),\n\u001b[0m\u001b[1;32m     49\u001b[0m                            \u001b[0;34m(\u001b[0m\u001b[0;34m\"val\"\u001b[0m\u001b[0;34m,\u001b[0m \u001b[0mval_loader\u001b[0m\u001b[0;34m)\u001b[0m\u001b[0;34m,\u001b[0m\u001b[0;34m\u001b[0m\u001b[0;34m\u001b[0m\u001b[0m\n\u001b[1;32m     50\u001b[0m                            (\"test\", test_loader)]:\n",
            "\u001b[0;31mNameError\u001b[0m: name 'train_loader' is not defined"
          ]
        }
      ]
    },
    {
      "cell_type": "code",
      "source": [
        "# (Optional) If you want to parse the raw epoch-31 text directly, use this instead:\n",
        "\n",
        "import re\n",
        "import numpy as np\n",
        "import matplotlib.pyplot as plt\n",
        "\n",
        "raw = \"\"\"\n",
        "Boards with  0 wrong squares: 1184\n",
        "Boards with  1 wrong squares: 454\n",
        "Boards with  2 wrong squares: 123\n",
        "Boards with  3 wrong squares: 42\n",
        "Boards with  4 wrong squares: 17\n",
        "Boards with  5 wrong squares: 3\n",
        "Boards with  6 wrong squares: 6\n",
        "Boards with  7 wrong squares: 1\n",
        "Boards with 13 wrong squares: 1\n",
        "Boards with 15 wrong squares: 1\n",
        "Boards with 18 wrong squares: 1\n",
        "Boards with 28 wrong squares: 1\n",
        "Boards with 34 wrong squares: 1\n",
        "\"\"\".strip()\n",
        "\n",
        "pairs = re.findall(r\"Boards with\\s+(\\d+)\\s+wrong squares:\\s+(\\d+)\", raw)\n",
        "error_counts = {int(k): int(v) for k, v in pairs}\n",
        "\n",
        "max_err = max(error_counts.keys())\n",
        "errs = np.arange(0, max_err + 1)\n",
        "counts = np.array([error_counts.get(e, 0) for e in errs])\n",
        "\n",
        "total_boards = counts.sum()\n",
        "zero_ok = error_counts.get(0, 0)\n",
        "nonzero = total_boards - zero_ok\n",
        "\n",
        "print(f\"Final Model — total boards: {total_boards}\")\n",
        "print(f\"0-error boards: {zero_ok}\")\n",
        "print(f\">0-error boards: {nonzero}\")\n",
        "\n",
        "plt.figure()\n",
        "plt.bar(errs, counts, width=0.8)\n",
        "plt.title(\"Final Model — Errors per Board\")\n",
        "plt.xlabel(\"# wrong squares on board\")\n",
        "plt.ylabel(\"# boards\")\n",
        "plt.xticks(errs)\n",
        "plt.tight_layout()\n",
        "plt.show()\n",
        "\n",
        "plt.figure()\n",
        "plt.pie([zero_ok, nonzero], labels=[\"0 errors\", \">0 errors\"], autopct=\"%1.1f%%\")\n",
        "plt.title(\"Final Model — Full-board Correct vs Not\")\n",
        "plt.show()\n"
      ],
      "metadata": {
        "colab": {
          "base_uri": "https://localhost:8080/",
          "height": 950
        },
        "id": "ZYKjfWrxlkNw",
        "outputId": "a25abdd8-a7ec-4953-d09c-45eef9690e62"
      },
      "id": "ZYKjfWrxlkNw",
      "execution_count": null,
      "outputs": [
        {
          "output_type": "stream",
          "name": "stdout",
          "text": [
            "Final Model — total boards: 1835\n",
            "0-error boards: 1184\n",
            ">0-error boards: 651\n"
          ]
        },
        {
          "output_type": "display_data",
          "data": {
            "text/plain": [
              "<Figure size 640x480 with 1 Axes>"
            ],
            "image/png": "[encoded data removed]"
          },
          "metadata": {}
        },
        {
          "output_type": "display_data",
          "data": {
            "text/plain": [
              "<Figure size 640x480 with 1 Axes>"
            ],
            "image/png": "[encoded data removed]"
          },
          "metadata": {}
        }
      ]
    },
    {
      "cell_type": "code",
      "source": [],
      "metadata": {
        "id": "sxZGA_uzmHRr"
      },
      "id": "sxZGA_uzmHRr",
      "execution_count": null,
      "outputs": []
    }
  ],
  "metadata": {
    "kernelspec": {
      "display_name": "Python 3",
      "language": "python",
      "name": "python3"
    },
    "language_info": {
      "name": "python",
      "version": "3.x"
    },
    "colab": {
      "provenance": []
    }
  },
  "nbformat": 4,
  "nbformat_minor": 5
}