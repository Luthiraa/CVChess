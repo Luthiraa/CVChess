{
  "nbformat": 4,
  "nbformat_minor": 0,
  "metadata": {
    "colab": {
      "provenance": []
    },
    "kernelspec": {
      "name": "python3",
      "display_name": "Python 3"
    },
    "language_info": {
      "name": "python"
    }
  },
  "cells": [
    {
      "cell_type": "code",
      "source": [
        "!pip install chess"
      ],
      "metadata": {
        "colab": {
          "base_uri": "https://localhost:8080/"
        },
        "id": "ZBrauvVrsv6W",
        "outputId": "74d394f6-57d3-4405-db60-02a588e24d06"
      },
      "execution_count": null,
      "outputs": [
        {
          "output_type": "stream",
          "name": "stdout",
          "text": [
            "Collecting chess\n",
            "  Downloading chess-1.11.2.tar.gz (6.1 MB)\n",
            "\u001b[?25l     \u001b[90m━━━━━━━━━━━━━━━━━━━━━━━━━━━━━━━━━━━━━━━━\u001b[0m \u001b[32m0.0/6.1 MB\u001b[0m \u001b[31m?\u001b[0m eta \u001b[36m-:--:--\u001b[0m\r\u001b[2K     \u001b[91m━━━━━━\u001b[0m\u001b[90m╺\u001b[0m\u001b[90m━━━━━━━━━━━━━━━━━━━━━━━━━━━━━━━━━\u001b[0m \u001b[32m0.9/6.1 MB\u001b[0m \u001b[31m27.9 MB/s\u001b[0m eta \u001b[36m0:00:01\u001b[0m\r\u001b[2K     \u001b[91m━━━━━━━━━━━━━━━━━━━━━━━━━━━━━━━━━━━━━━━\u001b[0m\u001b[91m╸\u001b[0m \u001b[32m6.1/6.1 MB\u001b[0m \u001b[31m92.9 MB/s\u001b[0m eta \u001b[36m0:00:01\u001b[0m\r\u001b[2K     \u001b[90m━━━━━━━━━━━━━━━━━━━━━━━━━━━━━━━━━━━━━━━━\u001b[0m \u001b[32m6.1/6.1 MB\u001b[0m \u001b[31m64.6 MB/s\u001b[0m eta \u001b[36m0:00:00\u001b[0m\n",
            "\u001b[?25h  Preparing metadata (setup.py) ... \u001b[?25l\u001b[?25hdone\n",
            "Building wheels for collected packages: chess\n",
            "  Building wheel for chess (setup.py) ... \u001b[?25l\u001b[?25hdone\n",
            "  Created wheel for chess: filename=chess-1.11.2-py3-none-any.whl size=147775 sha256=5adb57cb052040489ac21e21ec552876f632f30c12371409e4dd4456b2bf7583\n",
            "  Stored in directory: /root/.cache/pip/wheels/fb/5d/5c/59a62d8a695285e59ec9c1f66add6f8a9ac4152499a2be0113\n",
            "Successfully built chess\n",
            "Installing collected packages: chess\n",
            "Successfully installed chess-1.11.2\n"
          ]
        }
      ]
    },
    {
      "cell_type": "code",
      "source": [
        "!pip install chess.pgn"
      ],
      "metadata": {
        "colab": {
          "base_uri": "https://localhost:8080/"
        },
        "id": "mIFP_-g7s3SC",
        "outputId": "a9b41c7c-a16b-4624-e41f-48328a0b1c5c"
      },
      "execution_count": null,
      "outputs": [
        {
          "output_type": "stream",
          "name": "stdout",
          "text": [
            "\u001b[31mERROR: Could not find a version that satisfies the requirement chess.pgn (from versions: none)\u001b[0m\u001b[31m\n",
            "\u001b[0m\u001b[31mERROR: No matching distribution found for chess.pgn\u001b[0m\u001b[31m\n",
            "\u001b[0m"
          ]
        }
      ]
    },
    {
      "cell_type": "code",
      "source": [
        "import io, os, re, json\n",
        "from pathlib import Path\n",
        "from typing import List, Tuple, Literal\n",
        "import chess, chess.pgn\n",
        "from pydrive2.auth import GoogleAuth\n",
        "from pydrive2.drive import GoogleDrive\n",
        "from google.colab import auth as colab_auth\n",
        "from oauth2client.client import GoogleCredentials\n",
        "\n",
        "FOLDER_ID = \"1lxS3GpYvDLU_1a9oqzIRlNmJUSYbmGZp\"\n",
        "local_dir = Path(\"./Multiviews3\")\n",
        "local_dir.mkdir(exist_ok=True)\n",
        "\n",
        "def download_folder_all(folder_id: str, dst: Path) -> None:\n",
        "    colab_auth.authenticate_user()\n",
        "    gauth = GoogleAuth()\n",
        "    gauth.credentials = GoogleCredentials.get_application_default()\n",
        "    drive = GoogleDrive(gauth)\n",
        "\n",
        "    dst.mkdir(parents=True, exist_ok=True)\n",
        "\n",
        "    def _recurse(fid: str, out_dir: Path):\n",
        "        out_dir.mkdir(parents=True, exist_ok=True)\n",
        "        q = f\"'{fid}' in parents and trashed=false\"\n",
        "        for f in drive.ListFile({'q': q}).GetList():\n",
        "            if f['mimeType'] == 'application/vnd.google-apps.folder':\n",
        "                _recurse(f['id'], out_dir / f['title'])\n",
        "            else:\n",
        "                out_path = out_dir / f['title']\n",
        "                if out_path.exists() and out_path.stat().st_size > 0:\n",
        "                    continue\n",
        "                f.GetContentFile(str(out_path))\n",
        "\n",
        "    _recurse(folder_id, dst)\n",
        "\n",
        "if not any(local_dir.iterdir()):\n",
        "    download_folder_all(FOLDER_ID, local_dir)\n",
        "else:\n",
        "    print(\"Skipping download: files already present.\")\n",
        "\n",
        "Mode = Literal[\"multiview3\", \"overhead\"]\n",
        "\n",
        "def natural_key(s: str):\n",
        "    return [int(t) if t.isdigit() else t.lower() for t in re.findall(r\"\\d+|\\D+\", s)]\n",
        "\n",
        "def read_images(folder: Path, exts: Tuple[str, ...]=(\".png\",\".jpg\",\".jpeg\",\".webp\",\".bmp\")) -> List[str]:\n",
        "    imgs = [f.name for f in folder.iterdir() if f.is_file() and f.suffix.lower() in exts]\n",
        "    imgs.sort(key=natural_key)\n",
        "    return imgs\n",
        "\n",
        "def pgn_to_fens(pgn_text: str, include_start: bool = False) -> List[str]:\n",
        "    s = re.sub(r'\\]\\s*\\[', ']\\n[', pgn_text.strip())\n",
        "    s = re.sub(r'\\]\\s*(?=\\d+\\.)', ']\\n\\n', s)\n",
        "\n",
        "    game = chess.pgn.read_game(io.StringIO(s))\n",
        "    if game is None:\n",
        "        raise ValueError(\"Could not parse PGN.\")\n",
        "\n",
        "    board = game.board()\n",
        "    fens = [board.fen()] if include_start else []\n",
        "\n",
        "    moves = list(game.mainline_moves())\n",
        "    if not moves:\n",
        "        raise ValueError(\"Parsed PGN but found no moves. Ensure tags and moves are separated by a blank line.\")\n",
        "\n",
        "    for mv in moves:\n",
        "        board.push(mv)\n",
        "        fens.append(board.fen())\n",
        "    return fens\n",
        "\n",
        "def assign_labels(image_names: List[str], fens: List[str], mode: Mode, start_ply: int=0):\n",
        "    labels = []\n",
        "    if mode == \"multiview3\":\n",
        "        for i, img in enumerate(image_names):\n",
        "            fen_idx = start_ply + (i // 4)\n",
        "            if fen_idx >= len(fens):\n",
        "                fen_idx = len(fens) - 1\n",
        "            labels.append({\"image\": img, \"gt_fen\": fens[fen_idx]})\n",
        "    elif mode == \"overhead\":\n",
        "        for i, img in enumerate(image_names):\n",
        "            fen_idx = start_ply + i\n",
        "            if fen_idx >= len(fens):\n",
        "                fen_idx = len(fens) - 1\n",
        "            labels.append({\"image\": img, \"gt_fen\": fens[fen_idx]})\n",
        "    else:\n",
        "        raise ValueError(\"mode must be 'multiview3' or 'overhead'\")\n",
        "    return labels\n",
        "\n",
        "pgn_text = r'''[Event \"Hoogovens Group A\"] [Site \"Wijk aan Zee NED\"] [Date \"1999.01.20\"] [Round \"4\"] [White \"Garry Kasparov\"] [Black \"Veselin Topalov\"] [Result \"1-0\"] [WhiteElo \"2812\"] [BlackElo \"2700\"] [Variant \"Standard\"] [ECO \"B07\"] [Opening \"Pirc Defense\"] [StudyName \"Topalov vs Kasparov/1999\"] [ChapterName \"Capítulo 1\"] [Annotator \"https://lichess.org/@/emejor2003\"] [ChapterURL \"https://lichess.org/study/UU8bF5Ap/Q96G90LR\"] 1. e4 d6 2. d4 Nf6 3. Nc3 g6 4. Be3 Bg7 5. Qd2 { [%cal Ge3h6,Gg7h6,Gd2h6] } 5... c6 6. f3 b5 7. Nge2 Nbd7 8. Bh6 Bxh6 9. Qxh6 Bb7 10. a3 { [%cal Gb5b4,Ga3b4] } 10... e5 11. O-O-O Qe7 12. Kb1 { [%cal Ge2c1,Gc1b3] } 12... a6 13. Nc1 { [%cal Gc1b3,Gb3d4,Gb3a5] } 13... O-O-O 14. Nb3 exd4 15. Rxd4 (15. Nxd4) 15... c5 16. Rd1 Nb6 17. g3 { [%cal Gf1h3,Gh3c8] } 17... Kb8 { [%cal Gf1h3,Gh3c8] } 18. Na5 Ba8 19. Bh3 d5 20. Qf4+ Ka7 21. Rhe1 { [%cal Ge1e7,Ge4d5] } 21... d4 22. Nd5 Nbxd5 23. exd5 { [%cal Ge1e7] } 23... Qd6 24. Rxd4 (24. Re7+) 24... cxd4 25. Re7+ { [%cal Gd6e7,Gf4d4,Ga7b8,Gd4b6,Ga8b7,Ga5c6,Gb8a8,Gb6a7] } 25... Kb6 (25... Qxe7 26. Qxd4+ Kb8 27. Qb6+ Bb7 28. Nc6+ Ka8 29. Qa7#) 26. Qxd4+ Kxa5 27. b4+ Ka4 28. Qc3 { [%csl Gb4,Ga3,Gb5,Ga5,Gb3][%cal Gc3b3] } 28... Qxd5 { [%cal Gd5b3,Gc3b3] } 29. Ra7 { [%cal Ga7a6] } 29... Bb7 { [%cal Gb7a6] } 30. Rxb7 { [%cal Gc3f6,Gf6e8,Gf6h5,Gb7a7,Ga7a6] } 30... Qc4 (30... Nh5) (30... Ne8 31. Ra7) 31. Qxf6 Kxa3 32. Qxa6+ Kxb4 33. c3+ Kxc3 34. Qa1+ Kd2 35. Qb2+ Kd1 36. Bf1 { [%csl Gc4][%cal Gc4f1,Gb2c2,Gd1e1,Gb7e7] } 36... Rd2 (36... Qxf1 37. Qc2+ Ke1 38. Re7+ Qe2 39. Qxe2#) 37. Rd7 Rxd7 38. Bxc4 bxc4 39. Qxh8 Rd3 40. Qa8 c3 (40... h5) 41. Qa4+ Ke1 42. f4 f5 43. Kc1 Rd2 (43... h6) (43... h5 44. Qe8+ Kf2) (43... Rd4) 44. Qa7 { 1-0 Black resigns. } 44... Ke2 { [%csl Gh7,Gg6,Gf5][%cal Ga7h7,Gh7g6,Gg6f5,Gf4f5,Gg3g4,Gg4g5,Gh2h4,Gh4h5] } (44... h6 45. Qg1+ Ke2 46. Qg2+ Ke3) 1-0\n",
        "'''\n",
        "fens = pgn_to_fens(pgn_text)\n",
        "imgs = read_images(local_dir)\n",
        "labels = assign_labels(imgs, fens, mode=\"multiview3\", start_ply=0)\n",
        "\n",
        "with open(local_dir / \"labels.json\", \"w\", encoding=\"utf-8\") as f:\n",
        "    json.dump(labels, f, ensure_ascii=False, indent=2)\n",
        "\n",
        "print(f\"Found {len(imgs)} images in {local_dir.resolve()}\")\n",
        "print(f\"Wrote {len(labels)} labels -> {local_dir/'labels.json'}\")\n",
        "print(f\"Total FENs from PGN: {len(fens)}\")\n"
      ],
      "metadata": {
        "colab": {
          "base_uri": "https://localhost:8080/"
        },
        "id": "L2WrOFU2tJiK",
        "outputId": "191b2162-5d7b-4bce-aba0-c178d6178cfd"
      },
      "execution_count": 20,
      "outputs": [
        {
          "output_type": "stream",
          "name": "stdout",
          "text": [
            "Found 352 images in /content/Multiviews3\n",
            "Wrote 352 labels -> Multiviews3/labels.json\n",
            "Total FENs from PGN: 88\n"
          ]
        }
      ]
    },
    {
      "cell_type": "code",
      "source": [
        "from pathlib import Path\n",
        "import shutil\n",
        "\n",
        "def empty_folder(path: Path) -> None:\n",
        "    \"\"\"Delete all files and subfolders inside `path` (keep the folder itself).\"\"\"\n",
        "    if not path.exists() or not path.is_dir():\n",
        "        return\n",
        "    for p in path.iterdir():\n",
        "        if p.is_dir():\n",
        "            shutil.rmtree(p)\n",
        "        else:\n",
        "            p.unlink()\n",
        "\n",
        "# call it\n",
        "empty_folder(local_dir)"
      ],
      "metadata": {
        "id": "3-mZ4UMLN6Pf"
      },
      "execution_count": null,
      "outputs": []
    }
  ]
}